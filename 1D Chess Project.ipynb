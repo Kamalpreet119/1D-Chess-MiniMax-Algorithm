{
 "cells": [
  {
   "cell_type": "markdown",
   "id": "71569310",
   "metadata": {},
   "source": [
    "# 1D Chess Implementation"
   ]
  },
  {
   "cell_type": "markdown",
   "id": "70be0090",
   "metadata": {},
   "source": [
    "## Creating Representation for the Board"
   ]
  },
  {
   "cell_type": "code",
   "execution_count": 10,
   "id": "26123063",
   "metadata": {},
   "outputs": [],
   "source": [
    "board=[\"WK\",\"WN\",\"WR\",\"  \",\"  \",\"BR\",\"BN\",\"BK\"]"
   ]
  },
  {
   "cell_type": "code",
   "execution_count": 13,
   "id": "2d2c98a6",
   "metadata": {},
   "outputs": [
    {
     "data": {
      "text/plain": [
       "'Steps to perform-\\n1)Board Representation\\n2)Generate Possible moves\\n3)Moves Implementer\\n4)Check for Valid Moves-Move does not leads King to Check\\n5)Game End-Checkmate/Stalemate/Insufficient material\\n6)Player Turn Logic\\n7)Minimax Algorithm\\n8)Game Playing'"
      ]
     },
     "execution_count": 13,
     "metadata": {},
     "output_type": "execute_result"
    }
   ],
   "source": [
    "\"\"\"Steps to perform-\n",
    "1)Board Representation\n",
    "2)Generate Possible moves\n",
    "3)Moves Implementer\n",
    "4)Check for Valid Moves-Move does not leads King to Check\n",
    "5)Game End-Checkmate/Stalemate/Insufficient material\n",
    "6)Player Turn Logic\n",
    "7)Minimax Algorithm\n",
    "8)Game Playing\"\"\""
   ]
  },
  {
   "cell_type": "code",
   "execution_count": 14,
   "id": "c0d1bb06",
   "metadata": {},
   "outputs": [
    {
     "data": {
      "text/plain": [
       "'In more simpler terms-\\n1)Represent the game state\\n2)Generate moves\\n3)Evaluate the board\\n4)Implement the Alpha-Beta algorithm\\n5)Add a search depth limit'"
      ]
     },
     "execution_count": 14,
     "metadata": {},
     "output_type": "execute_result"
    }
   ],
   "source": [
    "\"\"\"In more simpler terms-\n",
    "1)Represent the game state\n",
    "2)Generate moves\n",
    "3)Evaluate the board\n",
    "4)Implement the Alpha-Beta algorithm\n",
    "5)Add a search depth limit\"\"\""
   ]
  },
  {
   "cell_type": "markdown",
   "id": "f81baaad",
   "metadata": {},
   "source": [
    "## Calculating Possible Moves"
   ]
  },
  {
   "cell_type": "code",
   "execution_count": 69,
   "id": "0125df75",
   "metadata": {},
   "outputs": [],
   "source": [
    "# turn=0->White \n",
    "# turn=1->Black"
   ]
  },
  {
   "cell_type": "code",
   "execution_count": 2,
   "id": "e2421dbb",
   "metadata": {},
   "outputs": [],
   "source": [
    "# def possible_moves(piece,turn,board):\n",
    "#     possible_moves=[]\n",
    "#     if(turn==0):\n",
    "#         if(piece==\"WR\"):\n",
    "#             possible_moves=WhiterookMoves(board)\n",
    "#         elif(piece==\"WK\"):\n",
    "#             possible_moves=WhiteKingMoves(board)\n",
    "#         elif(piece==\"WN\"):\n",
    "#             possible_moves=WhiteKnightMoves(board)\n",
    "#         else:\n",
    "#             possible_moves=[]\n",
    "#     else:\n",
    "#         if(piece==\"BR\"):\n",
    "#             possible_moves=BlackrookMoves(board)\n",
    "#         elif(piece==\"BK\"):\n",
    "#             possible_moves=BlackKingMoves(board)\n",
    "#         elif(piece==\"BN\"):\n",
    "#             possible_moves=BlackKnightMoves(board)\n",
    "#         else:\n",
    "#             possible_moves=[]\n",
    "#     return possible_moves"
   ]
  },
  {
   "cell_type": "code",
   "execution_count": 11,
   "id": "f0dd11f0",
   "metadata": {},
   "outputs": [],
   "source": [
    "def WhiteRookMoves(board):\n",
    "    possible_moves=[]\n",
    "    for i in range(len(board)):\n",
    "        if(board[i]==\"WR\"):\n",
    "            #Checking valid moves to the right\n",
    "            for j in range(i+1,len(board)):\n",
    "                if(board[j]==\"  \"):\n",
    "                    possible_moves.append((\"WR\",j))\n",
    "                else:\n",
    "                    if(board[j][0]==\"W\"):\n",
    "                        break #Stop if there's a White piece in the way\n",
    "                    else:\n",
    "                        #Black piece is in way\n",
    "                        possible_moves.append((\"WR\",j))\n",
    "                        break\n",
    "\n",
    "            # Checking valid moves to the left\n",
    "            for j in range(i-1,-1,-1):\n",
    "                if(board[j]==\"  \"):\n",
    "                    possible_moves.append((\"WR\",j))\n",
    "                else:\n",
    "                    if(board[j][0]==\"W\"):\n",
    "                        break #Stop if there's a White piece in the way\n",
    "                    else:\n",
    "                        #Black piece is in way\n",
    "                        possible_moves.append((\"WR\", j))#Taking the Black piece\n",
    "                        break\n",
    "    return possible_moves"
   ]
  },
  {
   "cell_type": "code",
   "execution_count": 12,
   "id": "adec0936",
   "metadata": {},
   "outputs": [],
   "source": [
    "def WhiteKnightMoves(board):\n",
    "    possible_moves=[]\n",
    "    for i in range(len(board)):\n",
    "        #Finding White Knights on the Board\n",
    "        if(board[i]==\"WN\"):\n",
    "            #Knight can move 2 steps forward\n",
    "            if(i+2<len(board)):\n",
    "                if(board[i+2][0]!=\"W\"):#If not occupied by a White Piece\n",
    "                    possible_moves.append((\"WN\",i+2))\n",
    "            if(i-2>=0):#Knight can move 2 steps backwards\n",
    "                if(board[i-2][0]!=\"W\"):#If not occupied by a White Piece\n",
    "                    possible_moves.append((\"WN\",i-2))\n",
    "    return possible_moves"
   ]
  },
  {
   "cell_type": "code",
   "execution_count": 13,
   "id": "b2c844ae",
   "metadata": {},
   "outputs": [],
   "source": [
    "def WhiteKingMoves(board):\n",
    "    possible_moves=[]\n",
    "    for i in range(len(board)):\n",
    "        if(board[i]==\"WK\"):\n",
    "            if(i+1<len(board)):\n",
    "                if(board[i+1][0]!=\"W\"):\n",
    "                    possible_moves.append((\"WK\",i+1))\n",
    "            if(i-1>=0):\n",
    "                if(board[i-1][0]!=\"W\"):\n",
    "                    possible_moves.append((\"WK\",i-1))\n",
    "    return possible_moves"
   ]
  },
  {
   "cell_type": "code",
   "execution_count": 14,
   "id": "77bb4ae0",
   "metadata": {},
   "outputs": [],
   "source": [
    "def BlackRookMoves(board):\n",
    "    possible_moves=[]\n",
    "    for i in range(len(board)):\n",
    "        if(board[i]==\"BR\"):\n",
    "            #Checking valid moves to the right\n",
    "            for j in range(i+1,len(board)):\n",
    "                if(board[j]==\"  \"):\n",
    "                    possible_moves.append((\"BR\",j))\n",
    "                else:\n",
    "                    if(board[j][0]==\"B\"):\n",
    "                        break #Stop if there's a White piece in the way\n",
    "                    else:\n",
    "                        #Black piece is in way\n",
    "                        possible_moves.append((\"BR\",j))\n",
    "                        break\n",
    "\n",
    "            # Checking valid moves to the left\n",
    "            for j in range(i-1,-1,-1):\n",
    "                if(board[j]==\"  \"):\n",
    "                    possible_moves.append((\"BR\",j))\n",
    "                else:\n",
    "                    if(board[j][0]==\"B\"):\n",
    "                        break #Stop if there's a White piece in the way\n",
    "                    else:\n",
    "                        #Black piece is in way\n",
    "                        possible_moves.append((\"BR\", j))#Taking the Black piece\n",
    "                        break\n",
    "    return possible_moves"
   ]
  },
  {
   "cell_type": "code",
   "execution_count": 15,
   "id": "011cee38",
   "metadata": {},
   "outputs": [],
   "source": [
    "def BlackKnightMoves(board):\n",
    "    possible_moves=[]\n",
    "    for i in range(len(board)):\n",
    "        #Finding White Knights on the Board\n",
    "        if(board[i]==\"BN\"):\n",
    "            #Knight can move 2 steps forward\n",
    "            if(i+2<len(board)):\n",
    "                if(board[i+2][0]!=\"B\"):#If not occupied by a White Piece\n",
    "                    possible_moves.append((\"BN\",i+2))\n",
    "            if(i-2>=0):#Knight can move 2 steps backwards\n",
    "                if(board[i-2][0]!=\"B\"):#If not occupied by a White Piece\n",
    "                    possible_moves.append((\"BN\",i-2))\n",
    "    return possible_moves"
   ]
  },
  {
   "cell_type": "code",
   "execution_count": 16,
   "id": "674784d7",
   "metadata": {},
   "outputs": [],
   "source": [
    "def BlackKingMoves(board):\n",
    "    possible_moves=[]\n",
    "    for i in range(len(board)):\n",
    "        if(board[i]==\"BK\"):\n",
    "            if(i+1<len(board)):\n",
    "                if(board[i+1][0]!=\"B\"):\n",
    "                    possible_moves.append((\"BK\",i+1))\n",
    "            if(i-1>=0):\n",
    "                if(board[i-1][0]!=\"B\"):\n",
    "                    possible_moves.append((\"BK\",i-1))\n",
    "    return possible_moves"
   ]
  },
  {
   "cell_type": "code",
   "execution_count": 17,
   "id": "13053f3f",
   "metadata": {},
   "outputs": [],
   "source": [
    "def possible_moves(piece,turn,board):\n",
    "    if(turn==0):\n",
    "        if(piece==\"WR\"):\n",
    "            return WhiterookMoves(board)\n",
    "        elif(piece==\"WK\"):\n",
    "            return WhiteKingMoves(board)\n",
    "        elif(piece==\"WN\"):\n",
    "            return WhiteKnightMoves(board)\n",
    "        else:\n",
    "            return []\n",
    "    else:\n",
    "        if(piece==\"BR\"):\n",
    "            return BlackrookMoves(board)\n",
    "        elif(piece==\"BK\"):\n",
    "            return BlackKingMoves(board)\n",
    "        elif(piece==\"BN\"):\n",
    "            return BlackKnightMoves(board)\n",
    "        else:\n",
    "            return []"
   ]
  },
  {
   "cell_type": "markdown",
   "id": "a4a1ec75",
   "metadata": {},
   "source": [
    "## Checking Moves Functions for current Board state"
   ]
  },
  {
   "cell_type": "code",
   "execution_count": 18,
   "id": "ea8711b2",
   "metadata": {},
   "outputs": [
    {
     "data": {
      "text/plain": [
       "[]"
      ]
     },
     "execution_count": 18,
     "metadata": {},
     "output_type": "execute_result"
    }
   ],
   "source": [
    "WhiteKingMoves(board)"
   ]
  },
  {
   "cell_type": "code",
   "execution_count": 19,
   "id": "db22582b",
   "metadata": {},
   "outputs": [
    {
     "data": {
      "text/plain": [
       "[('WR', 3), ('WR', 4), ('WR', 5)]"
      ]
     },
     "execution_count": 19,
     "metadata": {},
     "output_type": "execute_result"
    }
   ],
   "source": [
    "WhiterookMoves(board)"
   ]
  },
  {
   "cell_type": "code",
   "execution_count": 20,
   "id": "f41c691e",
   "metadata": {},
   "outputs": [
    {
     "data": {
      "text/plain": [
       "[('WN', 3)]"
      ]
     },
     "execution_count": 20,
     "metadata": {},
     "output_type": "execute_result"
    }
   ],
   "source": [
    "WhiteKnightMoves(board)"
   ]
  },
  {
   "cell_type": "markdown",
   "id": "177a4a8e",
   "metadata": {},
   "source": [
    "## Checking for King in Check"
   ]
  },
  {
   "cell_type": "code",
   "execution_count": 21,
   "id": "a940a34a",
   "metadata": {},
   "outputs": [],
   "source": [
    "def getpositions(board):\n",
    "    wk_pos=-1#White King Position\n",
    "    wn_pos=-1#White Knight Position\n",
    "    wr_pos=-1#White Rook Position\n",
    "    br_pos=-1#Black Rook Position\n",
    "    bn_pos=-1#Black Knight Position\n",
    "    bk_pos=-1#Black King Position\n",
    "    for i in range(len(board)):\n",
    "        if(board[i]==\"WR\"):\n",
    "            wr_pos=i\n",
    "        if(board[i]==\"WN\"):\n",
    "            wn_pos=i\n",
    "        if(board[i]==\"WK\"):\n",
    "            wk_pos=i\n",
    "        if(board[i]==\"BR\"):\n",
    "            br_pos=i\n",
    "        if(board[i]==\"BN\"):\n",
    "            bn_pos=i\n",
    "        if(board[i]==\"BK\"):\n",
    "            bk_pos=i\n",
    "    return (wk_pos,wn_pos,wr_pos,br_pos,bn_pos,bk_pos)"
   ]
  },
  {
   "cell_type": "code",
   "execution_count": 112,
   "id": "c1275a4b",
   "metadata": {},
   "outputs": [],
   "source": [
    "def WhiteKingInCheck(board):\n",
    "    #I assume move has been implemented-So Is now the King under check\n",
    "    #Finding position of all Pieces on the board\n",
    "    wk_pos,wn_pos,wr_pos,br_pos,bn_pos,bk_pos=getpositions(board)\n",
    "    #print(wk_pos,wn_pos,wr_pos,br_pos,bn_pos,bk_pos)\n",
    "    #Black King attacks White King\n",
    "    if((bk_pos+1==wk_pos or bk_pos-1==wk_pos)and(bk_pos!=-1)):\n",
    "        return True\n",
    "    #Black Knight checks White King\n",
    "    if((bn_pos+2==wk_pos or bn_pos-2==wk_pos)and(bn_pos!=-1)):\n",
    "        return True\n",
    "    #Black Rook checks White King\n",
    "    #It means between White King and Black Rook,there is no other piece\n",
    "    minindex=min(br_pos,wk_pos)\n",
    "    maxindex=max(br_pos,wk_pos)\n",
    "    noPieceInBetween=True\n",
    "    for i in range(minindex+1,maxindex):\n",
    "        if(board[i]!=\"  \"):\n",
    "            noPieceInBetween=False\n",
    "    #If there is no Piece in Between-Black Rook checks White King\n",
    "    \"\"\"Safety Condition I am adding later-\"\"\"\n",
    "    #But If Black Rook does not exists-Still no piece in between\n",
    "    #But we will get True still->So Check Black Rook exists\n",
    "    if(br_pos==-1):\n",
    "        return False\n",
    "    return noPieceInBetween"
   ]
  },
  {
   "cell_type": "code",
   "execution_count": 56,
   "id": "8b22e3f4",
   "metadata": {},
   "outputs": [
    {
     "data": {
      "text/plain": [
       "(0, 1, 2, 5, 6, 7)"
      ]
     },
     "execution_count": 56,
     "metadata": {},
     "output_type": "execute_result"
    }
   ],
   "source": [
    "getpositions(board)"
   ]
  },
  {
   "cell_type": "code",
   "execution_count": 61,
   "id": "13cd98f9",
   "metadata": {},
   "outputs": [],
   "source": [
    "#Just Debugging some issues"
   ]
  },
  {
   "cell_type": "code",
   "execution_count": 57,
   "id": "80b6911a",
   "metadata": {},
   "outputs": [
    {
     "name": "stdout",
     "output_type": "stream",
     "text": [
      "8 6 0 False\n",
      "8 4 0 False\n"
     ]
    }
   ],
   "source": [
    "wk_pos,wn_pos,wr_pos,br_pos,bn_pos,bk_pos=getpositions(board)\n",
    "print(bk_pos+1,bk_pos-1,wk_pos,(bk_pos+1==wk_pos or bk_pos-1==wk_pos))\n",
    "print(bn_pos+2,bn_pos-2,wk_pos,(bn_pos+2==wk_pos or bn_pos-2==wk_pos))"
   ]
  },
  {
   "cell_type": "code",
   "execution_count": 59,
   "id": "a30233ba",
   "metadata": {},
   "outputs": [
    {
     "name": "stdout",
     "output_type": "stream",
     "text": [
      "5 0\n",
      "WN|WR|  |  |\n",
      "1 5\n",
      "False\n"
     ]
    }
   ],
   "source": [
    "print(br_pos,wk_pos)\n",
    "for i in range(min(br_pos,wk_pos)+1,max(br_pos,wk_pos)):\n",
    "    print(board[i],end=\"|\")\n",
    "print()\n",
    "minindex=min(br_pos,wk_pos)\n",
    "maxindex=max(br_pos,wk_pos)\n",
    "print(minindex+1,maxindex)\n",
    "noPieceInBetween=True\n",
    "for i in range(minindex+1,maxindex):\n",
    "    if(board[i]!=\"  \"):\n",
    "        noPieceInBetween=False\n",
    "print(noPieceInBetween)"
   ]
  },
  {
   "cell_type": "code",
   "execution_count": 60,
   "id": "8a8aca3a",
   "metadata": {},
   "outputs": [
    {
     "data": {
      "text/plain": [
       "False"
      ]
     },
     "execution_count": 60,
     "metadata": {},
     "output_type": "execute_result"
    }
   ],
   "source": [
    "WhiteKingInCheck(board)"
   ]
  },
  {
   "cell_type": "code",
   "execution_count": 111,
   "id": "e061ae2e",
   "metadata": {},
   "outputs": [],
   "source": [
    "def BlackKingInCheck(board):\n",
    "    wk_pos,wn_pos,wr_pos,br_pos,bn_pos,bk_pos=getpositions(board)\n",
    "    #White King attacks Black King\n",
    "    if((wk_pos+1==bk_pos or wk_pos-1==bk_pos)and(wk_pos!=-1)):\n",
    "        return True\n",
    "    #White Knight checks Black King\n",
    "    if((wn_pos+2==bk_pos or wn_pos-2==bk_pos)and(wn_pos!=-1)):\n",
    "        return True\n",
    "    #White Rook checks Black King\n",
    "    noPieceInBetween=True\n",
    "    for i in range(min(wr_pos,bk_pos)+1,max(wr_pos,bk_pos)):\n",
    "        if(board[i]!=\"  \"):\n",
    "            noPieceInBetween=False\n",
    "    if(wr_pos==-1):\n",
    "        return False\n",
    "    return noPieceInBetween"
   ]
  },
  {
   "cell_type": "code",
   "execution_count": 63,
   "id": "0477d1c1",
   "metadata": {},
   "outputs": [
    {
     "data": {
      "text/plain": [
       "False"
      ]
     },
     "execution_count": 63,
     "metadata": {},
     "output_type": "execute_result"
    }
   ],
   "source": [
    "BlackKingInCheck(board)"
   ]
  },
  {
   "cell_type": "markdown",
   "id": "dba6e599",
   "metadata": {},
   "source": [
    "## Implement Moves"
   ]
  },
  {
   "cell_type": "code",
   "execution_count": 71,
   "id": "9d2664cf",
   "metadata": {},
   "outputs": [],
   "source": [
    "def implement_moves(board,move):\n",
    "    piece_to_move=move[0]\n",
    "    newposition=move[1]\n",
    "    for i in range(len(board)):\n",
    "        if(board[i]==piece_to_move):\n",
    "            oldposition=i\n",
    "    \n",
    "    #Piece at new Position\n",
    "    piece_at_newposition=board[newposition]\n",
    "    #Now Old Position will be empty \n",
    "    board[oldposition]=\"  \"\n",
    "    #New Position will have that piece now\n",
    "    board[newposition]=piece_to_move\n",
    "    return (oldposition,newposition,piece_to_move,piece_at_newposition)#For Undoing"
   ]
  },
  {
   "cell_type": "code",
   "execution_count": 67,
   "id": "a121e64d",
   "metadata": {},
   "outputs": [
    {
     "name": "stdout",
     "output_type": "stream",
     "text": [
      "['WK', 'WN', '  ', 'WR', '  ', 'BR', 'BN', 'BK']\n",
      "['WK', 'WN', '  ', 'WR', '  ', 'BR', 'BN', 'BK']\n"
     ]
    }
   ],
   "source": [
    "#I see that by making changes in Array-Change is made in original copy too\n",
    "#board1=implement_moves(board,(\"WR\",3))\n",
    "#print(board)\n",
    "#print(board1)"
   ]
  },
  {
   "cell_type": "code",
   "execution_count": 72,
   "id": "6998c881",
   "metadata": {},
   "outputs": [
    {
     "name": "stdout",
     "output_type": "stream",
     "text": [
      "['WK', 'WN', '  ', 'WR', '  ', 'BR', 'BN', 'BK']\n"
     ]
    }
   ],
   "source": [
    "implement_moves(board,(\"WR\",3))\n",
    "print(board)"
   ]
  },
  {
   "cell_type": "code",
   "execution_count": 73,
   "id": "a21c7cd1",
   "metadata": {},
   "outputs": [
    {
     "name": "stdout",
     "output_type": "stream",
     "text": [
      "['WK', 'WN', 'WR', '  ', '  ', 'BR', 'BN', 'BK']\n"
     ]
    }
   ],
   "source": [
    "implement_moves(board,(\"WR\",2))\n",
    "print(board)"
   ]
  },
  {
   "cell_type": "markdown",
   "id": "bc3716c5",
   "metadata": {},
   "source": [
    "## Valid Moves Checker"
   ]
  },
  {
   "cell_type": "code",
   "execution_count": 96,
   "id": "cf234962",
   "metadata": {},
   "outputs": [],
   "source": [
    "\"\"\"def valid_moves(board,move,turn):\n",
    "    #By making the move,the one who makes moves does not get his king in check\n",
    "    (oldposition,newposition,piece_to_move,piece_at_newposition)=implement_moves(board,move)\n",
    "    #Now Checking if King is in Check\n",
    "    king_in_check=False\n",
    "    #The one who makes move-His Move should not have king in check\n",
    "    piece_under_consideration_to_move=move[0]\n",
    "    piece_type=piece_under_consideration_to_move[0]\n",
    "    if(turn==0 and piece_type==\"W\"):\n",
    "        king_in_check=WhiteKingInCheck(board)\n",
    "    elif(turn==1 and piece_type==\"B\"):\n",
    "        king_in_check=BlackKingInCheck(board)\n",
    "    #Undoing the move\n",
    "    #We have piece_to_move at newposition->We need it at it's original position That is oldposition\n",
    "    #piece_at_newposition is removed->We need it back at it's position named newposition on the board\n",
    "    board[oldposition]=piece_to_move\n",
    "    board[newposition]=piece_at_newpositione\n",
    "    return not(king_in_check)\"\"\""
   ]
  },
  {
   "cell_type": "code",
   "execution_count": 99,
   "id": "d3d9931d",
   "metadata": {},
   "outputs": [],
   "source": [
    "def valid_moves(board,move,turn):\n",
    "    boardcopy=board.copy()#Now no need to undo moves As we make changes in a copy\n",
    "    king_in_check=False\n",
    "    implement_moves(boardcopy,move)\n",
    "    if(turn==0):\n",
    "        king_in_check=WhiteKingInCheck(boardcopy)\n",
    "    else:\n",
    "        king_in_check=BlackKingInCheck(boardcopy)\n",
    "    return not(king_in_check)"
   ]
  },
  {
   "cell_type": "code",
   "execution_count": 77,
   "id": "a7707d21",
   "metadata": {},
   "outputs": [
    {
     "data": {
      "text/plain": [
       "'So for Now,for a given Board State-\\nI have the board-I will get possible moves from the current board state for the AI Bot turn\\nThen out of all his moves,I will remove the moves which brings him in check\\nThen Implementation of moves could be done'"
      ]
     },
     "execution_count": 77,
     "metadata": {},
     "output_type": "execute_result"
    }
   ],
   "source": [
    "\"\"\"So for Now,for a given Board State-\n",
    "I have the board-I will get possible moves from the current board state for the AI Bot turn\n",
    "Then out of all his moves,I will remove the moves which brings him in check\n",
    "Then Implementation of moves could be done\"\"\""
   ]
  },
  {
   "cell_type": "markdown",
   "id": "5f2cbf07",
   "metadata": {},
   "source": [
    "## Some Required Functions before going to Minimax Algorithm"
   ]
  },
  {
   "cell_type": "code",
   "execution_count": 84,
   "id": "8682ce79",
   "metadata": {},
   "outputs": [],
   "source": [
    "def evaluation_score(board):\n",
    "    total_score=0\n",
    "    #Weights for different pieces on board\n",
    "    piece_values={\"WK\":100,\"WN\":30,\"WR\":50,\"BK\":-100,\"BN\":-30,\"BR\":-50,\"  \":0}\n",
    "    for i in range(len(board)):\n",
    "        total_score+=piece_values[board[i]]\n",
    "    \"\"\"if(turn==0):\n",
    "        #White is making moves\n",
    "        #So Reward for Checking Black King and penalize for making White King Vulnerable\n",
    "        if(WhiteKingInCheck(board)):\n",
    "            total_score-=1000\n",
    "        if(BlackKingInCheck(board)):\n",
    "            total_score+=700\n",
    "    else:\n",
    "        #Black is making moves\n",
    "        #So Reward for Checking White King and penalize for making Black King Vulnerable\n",
    "        #Black King wants score to be Negative-Minimizing Player\n",
    "        if(BlackKingInCheck(board)):\n",
    "            total_score+=1000\n",
    "        if(WhiteKingInCheck(board)):\n",
    "            total_score-=700\"\"\"\n",
    "    if(WhiteKingInCheck(board)):\n",
    "            total_score-=1000\n",
    "    if(BlackKingInCheck(board)):\n",
    "            total_score+=1000\n",
    "    return total_score"
   ]
  },
  {
   "cell_type": "code",
   "execution_count": 86,
   "id": "fd84decb",
   "metadata": {},
   "outputs": [
    {
     "name": "stdout",
     "output_type": "stream",
     "text": [
      "0\n"
     ]
    }
   ],
   "source": [
    "print(evaluation_score(board))"
   ]
  },
  {
   "cell_type": "code",
   "execution_count": 87,
   "id": "34b7c2b0",
   "metadata": {},
   "outputs": [],
   "source": [
    "#White-Maximizing Player\n",
    "#Black-Minimizing Player"
   ]
  },
  {
   "cell_type": "markdown",
   "id": "aaa33007",
   "metadata": {},
   "source": [
    "## Basic structure of Minimax Algorithm"
   ]
  },
  {
   "cell_type": "code",
   "execution_count": 120,
   "id": "fa60d64a",
   "metadata": {},
   "outputs": [
    {
     "data": {
      "text/plain": [
       "'\\nfunction minimax(position,depth,maximizingPlayer):\\n    if(depth==0 or game over in position):\\n        return static evaluation of position\\n    \\n    if maximizingPlayer:\\n        maxEval=-infinity\\n        for each child of position:\\n            eval=minimax(child,depth-1,false)\\n            maxEval=max(eval,maxEval)\\n        return maxEval\\n    else:\\n        minEval=+infinity\\n        for each child of position:\\n            eval=minimax(child,depth-1,true)\\n            minEval=min(eval,minEval)\\n        return minval\\n'"
      ]
     },
     "execution_count": 120,
     "metadata": {},
     "output_type": "execute_result"
    }
   ],
   "source": [
    "#Pseudocode-\n",
    "\"\"\"\n",
    "function minimax(position,depth,maximizingPlayer):\n",
    "    if(depth==0 or game over in position):\n",
    "        return static evaluation of position\n",
    "    \n",
    "    if maximizingPlayer:\n",
    "        maxEval=-infinity\n",
    "        for each child of position:\n",
    "            eval=minimax(child,depth-1,false)\n",
    "            maxEval=max(eval,maxEval)\n",
    "        return maxEval\n",
    "    else:\n",
    "        minEval=+infinity\n",
    "        for each child of position:\n",
    "            eval=minimax(child,depth-1,true)\n",
    "            minEval=min(eval,minEval)\n",
    "        return minval\n",
    "\"\"\""
   ]
  },
  {
   "cell_type": "code",
   "execution_count": 89,
   "id": "3fafd3d7",
   "metadata": {},
   "outputs": [],
   "source": [
    "#To create local copy of board-\n",
    "#https://www.toppr.com/guides/python-guide/references/methods-and-functions/python-list-copy/#:~:text=A%20list%20can%20be%20copied,is%20copying%20the%20referencing%20too."
   ]
  },
  {
   "cell_type": "code",
   "execution_count": 103,
   "id": "87966f66",
   "metadata": {},
   "outputs": [],
   "source": [
    "def is_gameover(board,turn):\n",
    "    wk_pos,wn_pos,wr_pos,br_pos,bn_pos,bk_pos=getpositions(board)\n",
    "    #Insufficient material\n",
    "    if(wn_pos==-1 and wr_pos==-1 and br_pos==-1 and bn_pos==-1):\n",
    "        #Can't checkmate with only Kings\n",
    "        return True\n",
    "    \n",
    "    #Stalemate->No possible move for current Player\n",
    "    possibleMoves=[]\n",
    "    if(turn==0):\n",
    "        possibleMoves.append(possible_moves(\"WR\",turn,board))\n",
    "        possibleMoves.append(possible_moves(\"WN\",turn,board))\n",
    "        possibleMoves.append(possible_moves(\"WK\",turn,board))\n",
    "    else:\n",
    "        possibleMoves.append(possible_moves(\"BR\",turn,board))\n",
    "        possibleMoves.append(possible_moves(\"BN\",turn,board))\n",
    "        possibleMoves.append(possible_moves(\"BK\",turn,board))\n",
    "        \n",
    "    \n",
    "    #for i in possibleMoves:\n",
    "    #     if(valid_moves(board,i,turn)):\n",
    "    #         pass\n",
    "    #     else:\n",
    "    #         possibleMoves.remove(i)\n",
    "    print(possibleMoves)\n",
    "    newlist=[]#As we can't change length of list during Iteration\n",
    "    for i in possibleMoves:\n",
    "        if(valid_moves(board,i,turn)):\n",
    "            newlist.append(i)\n",
    "    return newlist"
   ]
  },
  {
   "cell_type": "code",
   "execution_count": 104,
   "id": "3911033b",
   "metadata": {},
   "outputs": [
    {
     "name": "stdout",
     "output_type": "stream",
     "text": [
      "[[('WR', 3), ('WR', 4), ('WR', 5)], [('WN', 3)], []]\n"
     ]
    },
    {
     "ename": "TypeError",
     "evalue": "list indices must be integers or slices, not tuple",
     "output_type": "error",
     "traceback": [
      "\u001b[1;31m---------------------------------------------------------------------------\u001b[0m",
      "\u001b[1;31mTypeError\u001b[0m                                 Traceback (most recent call last)",
      "Cell \u001b[1;32mIn [104], line 1\u001b[0m\n\u001b[1;32m----> 1\u001b[0m \u001b[43mis_gameover\u001b[49m\u001b[43m(\u001b[49m\u001b[43mboard\u001b[49m\u001b[43m,\u001b[49m\u001b[38;5;241;43m0\u001b[39;49m\u001b[43m)\u001b[49m\n",
      "Cell \u001b[1;32mIn [103], line 28\u001b[0m, in \u001b[0;36mis_gameover\u001b[1;34m(board, turn)\u001b[0m\n\u001b[0;32m     26\u001b[0m newlist\u001b[38;5;241m=\u001b[39m[]\u001b[38;5;66;03m#As we can't change length of list during Iteration\u001b[39;00m\n\u001b[0;32m     27\u001b[0m \u001b[38;5;28;01mfor\u001b[39;00m i \u001b[38;5;129;01min\u001b[39;00m possibleMoves:\n\u001b[1;32m---> 28\u001b[0m     \u001b[38;5;28;01mif\u001b[39;00m(\u001b[43mvalid_moves\u001b[49m\u001b[43m(\u001b[49m\u001b[43mboard\u001b[49m\u001b[43m,\u001b[49m\u001b[43mi\u001b[49m\u001b[43m,\u001b[49m\u001b[43mturn\u001b[49m\u001b[43m)\u001b[49m):\n\u001b[0;32m     29\u001b[0m         newlist\u001b[38;5;241m.\u001b[39mappend(i)\n\u001b[0;32m     30\u001b[0m \u001b[38;5;28;01mreturn\u001b[39;00m newlist\n",
      "Cell \u001b[1;32mIn [99], line 4\u001b[0m, in \u001b[0;36mvalid_moves\u001b[1;34m(board, move, turn)\u001b[0m\n\u001b[0;32m      2\u001b[0m boardcopy\u001b[38;5;241m=\u001b[39mboard\u001b[38;5;241m.\u001b[39mcopy()\u001b[38;5;66;03m#Now no need to undo moves As we make changes in a copy\u001b[39;00m\n\u001b[0;32m      3\u001b[0m king_in_check\u001b[38;5;241m=\u001b[39m\u001b[38;5;28;01mFalse\u001b[39;00m\n\u001b[1;32m----> 4\u001b[0m \u001b[43mimplement_moves\u001b[49m\u001b[43m(\u001b[49m\u001b[43mboardcopy\u001b[49m\u001b[43m,\u001b[49m\u001b[43mmove\u001b[49m\u001b[43m)\u001b[49m\n\u001b[0;32m      5\u001b[0m \u001b[38;5;28;01mif\u001b[39;00m(turn\u001b[38;5;241m==\u001b[39m\u001b[38;5;241m0\u001b[39m):\n\u001b[0;32m      6\u001b[0m     king_in_check\u001b[38;5;241m=\u001b[39mWhiteKingInCheck(boardcopy)\n",
      "Cell \u001b[1;32mIn [71], line 9\u001b[0m, in \u001b[0;36mimplement_moves\u001b[1;34m(board, move)\u001b[0m\n\u001b[0;32m      6\u001b[0m         oldposition\u001b[38;5;241m=\u001b[39mi\n\u001b[0;32m      8\u001b[0m \u001b[38;5;66;03m#Piece at new Position\u001b[39;00m\n\u001b[1;32m----> 9\u001b[0m piece_at_newposition\u001b[38;5;241m=\u001b[39m\u001b[43mboard\u001b[49m\u001b[43m[\u001b[49m\u001b[43mnewposition\u001b[49m\u001b[43m]\u001b[49m\n\u001b[0;32m     10\u001b[0m \u001b[38;5;66;03m#Now Old Position will be empty \u001b[39;00m\n\u001b[0;32m     11\u001b[0m board[oldposition]\u001b[38;5;241m=\u001b[39m\u001b[38;5;124m\"\u001b[39m\u001b[38;5;124m  \u001b[39m\u001b[38;5;124m\"\u001b[39m\n",
      "\u001b[1;31mTypeError\u001b[0m: list indices must be integers or slices, not tuple"
     ]
    }
   ],
   "source": [
    "is_gameover(board,0)"
   ]
  },
  {
   "cell_type": "code",
   "execution_count": null,
   "id": "e388ecb5",
   "metadata": {},
   "outputs": [],
   "source": [
    "\"\"\"TypeError                                 Traceback (most recent call last)\n",
    "Cell In [104], line 1\n",
    "----> 1 is_gameover(board,0)\n",
    "\n",
    "Cell In [103], line 28, in is_gameover(board, turn)\n",
    "     26 newlist=[]#As we can't change length of list during Iteration\n",
    "     27 for i in possibleMoves:\n",
    "---> 28     if(valid_moves(board,i,turn)):\n",
    "     29         newlist.append(i)\n",
    "     30 return newlist\n",
    "\n",
    "Cell In [99], line 4, in valid_moves(board, move, turn)\n",
    "      2 boardcopy=board.copy()#Now no need to undo moves As we make changes in a copy\n",
    "      3 king_in_check=False\n",
    "----> 4 implement_moves(boardcopy,move)\n",
    "      5 if(turn==0):\n",
    "      6     king_in_check=WhiteKingInCheck(boardcopy)\n",
    "\n",
    "Cell In [71], line 9, in implement_moves(board, move)\n",
    "      6         oldposition=i\n",
    "      8 #Piece at new Position\n",
    "----> 9 piece_at_newposition=board[newposition]\n",
    "     10 #Now Old Position will be empty \n",
    "     11 board[oldposition]=\"  \"\n",
    "\n",
    "TypeError: list indices must be integers or slices, not tuple\"\"\""
   ]
  },
  {
   "cell_type": "code",
   "execution_count": 105,
   "id": "a9bcdd7d",
   "metadata": {},
   "outputs": [],
   "source": [
    "def is_gameover(board,turn):\n",
    "    wk_pos,wn_pos,wr_pos,br_pos,bn_pos,bk_pos=getpositions(board)\n",
    "    #Insufficient material\n",
    "    if(wn_pos==-1 and wr_pos==-1 and br_pos==-1 and bn_pos==-1):\n",
    "        #Can't checkmate with only Kings\n",
    "        return True\n",
    "    \n",
    "    #Stalemate->No possible move for current Player\n",
    "    possibleMoves=[]\n",
    "    if(turn==0):\n",
    "        lst1=possible_moves(\"WR\",turn,board)\n",
    "        for i in lst1:\n",
    "            possibleMoves.append(i)\n",
    "        \n",
    "        lst2=possible_moves(\"WN\",turn,board)\n",
    "        for i in lst2:\n",
    "            possibleMoves.append(i)\n",
    "        \n",
    "        lst3=possible_moves(\"WK\",turn,board)\n",
    "        for i in lst3:\n",
    "            possibleMoves.append(i)\n",
    "    else:\n",
    "        lst1=possible_moves(\"BR\",turn,board)\n",
    "        for i in lst1:\n",
    "            possibleMoves.append(i)\n",
    "        \n",
    "        lst2=possible_moves(\"BN\",turn,board)\n",
    "        for i in lst2:\n",
    "            possibleMoves.append(i)\n",
    "        \n",
    "        lst3=possible_moves(\"BK\",turn,board)\n",
    "        for i in lst3:\n",
    "            possibleMoves.append(i)\n",
    "\n",
    "    print(possibleMoves)\n",
    "    newlist=[]#As we can't change length of list during Iteration\n",
    "    for i in possibleMoves:\n",
    "        if(valid_moves(board,i,turn)):\n",
    "            newlist.append(i)\n",
    "    return newlist"
   ]
  },
  {
   "cell_type": "code",
   "execution_count": 106,
   "id": "53bf0fac",
   "metadata": {},
   "outputs": [
    {
     "name": "stdout",
     "output_type": "stream",
     "text": [
      "[('WR', 3), ('WR', 4), ('WR', 5), ('WN', 3)]\n"
     ]
    },
    {
     "data": {
      "text/plain": [
       "[('WR', 3), ('WR', 4), ('WN', 3)]"
      ]
     },
     "execution_count": 106,
     "metadata": {},
     "output_type": "execute_result"
    }
   ],
   "source": [
    "is_gameover(board,0)"
   ]
  },
  {
   "cell_type": "code",
   "execution_count": 107,
   "id": "ea37f9c8",
   "metadata": {},
   "outputs": [
    {
     "data": {
      "text/plain": [
       "True"
      ]
     },
     "execution_count": 107,
     "metadata": {},
     "output_type": "execute_result"
    }
   ],
   "source": [
    "board1=[\"WK\",\"WN\",\"  \",\"  \",\"  \",\"WR\",\"BN\",\"BK\"]\n",
    "WhiteKingInCheck(board1)"
   ]
  },
  {
   "cell_type": "code",
   "execution_count": 108,
   "id": "d1e8e5cd",
   "metadata": {},
   "outputs": [
    {
     "name": "stdout",
     "output_type": "stream",
     "text": [
      "8 6 0 False\n",
      "8 4 0 False\n"
     ]
    }
   ],
   "source": [
    "wk_pos,wn_pos,wr_pos,br_pos,bn_pos,bk_pos=getpositions(board1)\n",
    "print(bk_pos+1,bk_pos-1,wk_pos,(bk_pos+1==wk_pos or bk_pos-1==wk_pos))\n",
    "print(bn_pos+2,bn_pos-2,wk_pos,(bn_pos+2==wk_pos or bn_pos-2==wk_pos))"
   ]
  },
  {
   "cell_type": "code",
   "execution_count": 109,
   "id": "351fdf46",
   "metadata": {},
   "outputs": [
    {
     "name": "stdout",
     "output_type": "stream",
     "text": [
      "-1 0\n",
      "\n",
      "0 0\n",
      "True\n"
     ]
    }
   ],
   "source": [
    "print(br_pos,wk_pos)\n",
    "for i in range(min(br_pos,wk_pos)+1,max(br_pos,wk_pos)):\n",
    "    print(board[i],end=\"|\")\n",
    "print()\n",
    "minindex=min(br_pos,wk_pos)\n",
    "maxindex=max(br_pos,wk_pos)\n",
    "print(minindex+1,maxindex)\n",
    "noPieceInBetween=True\n",
    "for i in range(minindex+1,maxindex):\n",
    "    if(board[i]!=\"  \"):\n",
    "        noPieceInBetween=False\n",
    "print(noPieceInBetween)"
   ]
  },
  {
   "cell_type": "code",
   "execution_count": 113,
   "id": "11ad9e07",
   "metadata": {},
   "outputs": [
    {
     "name": "stdout",
     "output_type": "stream",
     "text": [
      "-1 0\n",
      "\n",
      "0 0\n",
      "True\n"
     ]
    }
   ],
   "source": [
    "print(br_pos,wk_pos)\n",
    "for i in range(min(br_pos,wk_pos)+1,max(br_pos,wk_pos)):\n",
    "    print(board[i],end=\"|\")\n",
    "print()\n",
    "minindex=min(br_pos,wk_pos)\n",
    "maxindex=max(br_pos,wk_pos)\n",
    "print(minindex+1,maxindex)\n",
    "noPieceInBetween=True\n",
    "for i in range(minindex+1,maxindex):\n",
    "    if(board[i]!=\"  \"):\n",
    "        noPieceInBetween=False\n",
    "print(noPieceInBetween)"
   ]
  },
  {
   "cell_type": "code",
   "execution_count": 114,
   "id": "2fb691c5",
   "metadata": {},
   "outputs": [
    {
     "data": {
      "text/plain": [
       "False"
      ]
     },
     "execution_count": 114,
     "metadata": {},
     "output_type": "execute_result"
    }
   ],
   "source": [
    "WhiteKingInCheck(board1)"
   ]
  },
  {
   "cell_type": "code",
   "execution_count": 115,
   "id": "c30cc761",
   "metadata": {},
   "outputs": [
    {
     "name": "stdout",
     "output_type": "stream",
     "text": [
      "[('WR', 3), ('WR', 4), ('WR', 5), ('WN', 3)]\n"
     ]
    },
    {
     "data": {
      "text/plain": [
       "[('WR', 3), ('WR', 4), ('WR', 5), ('WN', 3)]"
      ]
     },
     "execution_count": 115,
     "metadata": {},
     "output_type": "execute_result"
    }
   ],
   "source": [
    "is_gameover(board,0)"
   ]
  },
  {
   "cell_type": "code",
   "execution_count": 116,
   "id": "0743862d",
   "metadata": {},
   "outputs": [],
   "source": [
    "#Now If There were no elements that is move in the returned list->This implies Stalemate"
   ]
  },
  {
   "cell_type": "code",
   "execution_count": 140,
   "id": "1b9bd0d0",
   "metadata": {},
   "outputs": [],
   "source": [
    "def GameOver(board,turn):\n",
    "    wk_pos,wn_pos,wr_pos,br_pos,bn_pos,bk_pos=getpositions(board)\n",
    "    #Insufficient material\n",
    "    if(wn_pos==-1 and wr_pos==-1 and br_pos==-1 and bn_pos==-1):\n",
    "        #Can't checkmate with only Kings\n",
    "        return True\n",
    "    #Stalemate->No possible move for current Player\n",
    "    possibleMoves=[]\n",
    "    if(turn==0):\n",
    "        lst1=possible_moves(\"WR\",turn,board)\n",
    "        for i in lst1:\n",
    "            possibleMoves.append(i)\n",
    "        lst2=possible_moves(\"WN\",turn,board)\n",
    "        for i in lst2:\n",
    "            possibleMoves.append(i)\n",
    "        lst3=possible_moves(\"WK\",turn,board)\n",
    "        for i in lst3:\n",
    "            possibleMoves.append(i)\n",
    "    else:\n",
    "        lst1=possible_moves(\"BR\",turn,board)\n",
    "        for i in lst1:\n",
    "            possibleMoves.append(i)\n",
    "        lst2=possible_moves(\"BN\",turn,board)\n",
    "        for i in lst2:\n",
    "            possibleMoves.append(i)\n",
    "        lst3=possible_moves(\"BK\",turn,board)\n",
    "        for i in lst3:\n",
    "            possibleMoves.append(i)\n",
    "    #print(possibleMoves)\n",
    "    newlist=[]#As we can't change length of list during Iteration\n",
    "    for i in possibleMoves:\n",
    "        if(valid_moves(board,i,turn)):\n",
    "            newlist.append(i)\n",
    "    print(newlist)\n",
    "    if(newlist==[]):\n",
    "        return True\n",
    "    else:\n",
    "        return False"
   ]
  },
  {
   "cell_type": "code",
   "execution_count": 134,
   "id": "c114e00e",
   "metadata": {},
   "outputs": [],
   "source": [
    "def player_moves(board,turn):\n",
    "    possibleMoves=[]\n",
    "    if(turn==0):\n",
    "        lst1=possible_moves(\"WR\",turn,board)\n",
    "        for i in lst1:\n",
    "            possibleMoves.append(i)\n",
    "        lst2=possible_moves(\"WN\",turn,board)\n",
    "        for i in lst2:\n",
    "            possibleMoves.append(i)\n",
    "        lst3=possible_moves(\"WK\",turn,board)\n",
    "        for i in lst3:\n",
    "            possibleMoves.append(i)\n",
    "    else:\n",
    "        lst1=possible_moves(\"BR\",turn,board)\n",
    "        for i in lst1:\n",
    "            possibleMoves.append(i)\n",
    "        lst2=possible_moves(\"BN\",turn,board)\n",
    "        for i in lst2:\n",
    "            possibleMoves.append(i)\n",
    "        lst3=possible_moves(\"BK\",turn,board)\n",
    "        for i in lst3:\n",
    "            possibleMoves.append(i)\n",
    "    newlist=[]\n",
    "    for i in possibleMoves:\n",
    "        if(valid_moves(board,i,turn)):\n",
    "            newlist.append(i)\n",
    "    return newlist"
   ]
  },
  {
   "cell_type": "code",
   "execution_count": 143,
   "id": "745f1c84",
   "metadata": {},
   "outputs": [],
   "source": [
    "def minimax(position,depth,turn=0):\n",
    "    if(depth==0 or GameOver(position,turn)):\n",
    "        return evaluation_score(position)\n",
    "    \n",
    "    if(turn==0):#Maximizing Player\n",
    "        maxEval=float(\"-inf\")\n",
    "        playerMoves=player_moves(position,turn)\n",
    "        for i in playerMoves:\n",
    "            move=i\n",
    "            boardcopy=position.copy()\n",
    "            implement_moves(boardcopy,move)\n",
    "            evaluation=minimax(boardcopy,depth-1,1)\n",
    "            maxEval=max(evaluation,maxEval)   \n",
    "        return maxEval\n",
    "    else:\n",
    "        minEval=float(\"inf\")\n",
    "        playerMoves=player_moves(position,turn)\n",
    "        for i in playerMoves:\n",
    "            move=i\n",
    "            boardcopy=position.copy()\n",
    "            implement_moves(boardcopy,move)\n",
    "            evaluation=minimax(boardcopy,depth-1,0)\n",
    "            minEval=min(evaluation,minEval)   \n",
    "        return minEval"
   ]
  },
  {
   "cell_type": "code",
   "execution_count": 141,
   "id": "d32f45fd",
   "metadata": {},
   "outputs": [
    {
     "name": "stdout",
     "output_type": "stream",
     "text": [
      "[('WR', 3), ('WR', 4), ('WR', 5), ('WN', 3)]\n",
      "[('BR', 4), ('BR', 3), ('BN', 4)]\n",
      "[('WR', 4), ('WR', 2)]\n",
      "[('WN', 3)]\n",
      "[('WR', 4), ('WR', 2)]\n",
      "[('BR', 4), ('BN', 4)]\n",
      "[('WN', 3)]\n",
      "[('WN', 3)]\n",
      "[]\n",
      "[('BR', 4), ('BR', 3), ('BN', 4)]\n",
      "[('WR', 1), ('WN', 5), ('WN', 1), ('WK', 1)]\n",
      "[('WR', 3), ('WR', 1), ('WK', 1)]\n",
      "[('WR', 1), ('WN', 5), ('WN', 1), ('WK', 1)]\n",
      "50\n"
     ]
    }
   ],
   "source": [
    "board1=[\"WK\",\"WN\",\"WR\",\"  \",\"  \",\"BR\",\"BN\",\"BK\"]\n",
    "print(minimax(board1,3))"
   ]
  },
  {
   "cell_type": "code",
   "execution_count": 133,
   "id": "6ffddec0",
   "metadata": {},
   "outputs": [
    {
     "name": "stdout",
     "output_type": "stream",
     "text": [
      "[('WR', 3), ('WR', 4), ('WR', 5), ('WN', 3)]\n",
      "50\n"
     ]
    }
   ],
   "source": [
    "board1=[\"WK\",\"WN\",\"WR\",\"  \",\"  \",\"BR\",\"BN\",\"BK\"]\n",
    "print(minimax(board1,1))"
   ]
  },
  {
   "cell_type": "code",
   "execution_count": 142,
   "id": "7166115b",
   "metadata": {},
   "outputs": [],
   "source": [
    "def GameOver(board,turn):\n",
    "    wk_pos,wn_pos,wr_pos,br_pos,bn_pos,bk_pos=getpositions(board)\n",
    "    #Insufficient material\n",
    "    if(wn_pos==-1 and wr_pos==-1 and br_pos==-1 and bn_pos==-1):\n",
    "        #Can't checkmate with only Kings\n",
    "        return True\n",
    "    #Stalemate->No possible move for current Player\n",
    "    possibleMoves=[]\n",
    "    if(turn==0):\n",
    "        lst1=possible_moves(\"WR\",turn,board)\n",
    "        for i in lst1:\n",
    "            possibleMoves.append(i)\n",
    "        lst2=possible_moves(\"WN\",turn,board)\n",
    "        for i in lst2:\n",
    "            possibleMoves.append(i)\n",
    "        lst3=possible_moves(\"WK\",turn,board)\n",
    "        for i in lst3:\n",
    "            possibleMoves.append(i)\n",
    "    else:\n",
    "        lst1=possible_moves(\"BR\",turn,board)\n",
    "        for i in lst1:\n",
    "            possibleMoves.append(i)\n",
    "        lst2=possible_moves(\"BN\",turn,board)\n",
    "        for i in lst2:\n",
    "            possibleMoves.append(i)\n",
    "        lst3=possible_moves(\"BK\",turn,board)\n",
    "        for i in lst3:\n",
    "            possibleMoves.append(i)\n",
    "    #print(possibleMoves)\n",
    "    newlist=[]#As we can't change length of list during Iteration\n",
    "    for i in possibleMoves:\n",
    "        if(valid_moves(board,i,turn)):\n",
    "            newlist.append(i)\n",
    "    #print(newlist)\n",
    "    if(newlist==[]):\n",
    "        return True\n",
    "    else:\n",
    "        return False"
   ]
  },
  {
   "cell_type": "code",
   "execution_count": 144,
   "id": "6dad0d30",
   "metadata": {},
   "outputs": [],
   "source": [
    "def minimax(position,depth,turn=0):\n",
    "    if(depth==0 or GameOver(position,turn)):\n",
    "        return evaluation_score(position)\n",
    "    \n",
    "    if(turn==0):#Maximizing Player\n",
    "        maxEval=float(\"-inf\")\n",
    "        playerMoves=player_moves(position,turn)\n",
    "        for i in playerMoves:\n",
    "            move=i\n",
    "            boardcopy=position.copy()\n",
    "            implement_moves(boardcopy,move)\n",
    "            evaluation=minimax(boardcopy,depth-1,1)\n",
    "            maxEval=max(evaluation,maxEval)   \n",
    "        return maxEval\n",
    "    else:\n",
    "        minEval=float(\"inf\")\n",
    "        playerMoves=player_moves(position,turn)\n",
    "        for i in playerMoves:\n",
    "            move=i\n",
    "            boardcopy=position.copy()\n",
    "            implement_moves(boardcopy,move)\n",
    "            evaluation=minimax(boardcopy,depth-1,0)\n",
    "            minEval=min(evaluation,minEval)   \n",
    "        return minEval"
   ]
  },
  {
   "cell_type": "markdown",
   "id": "456d90f2",
   "metadata": {},
   "source": [
    "## Implementing Game Loop"
   ]
  },
  {
   "cell_type": "code",
   "execution_count": 145,
   "id": "18948dc7",
   "metadata": {},
   "outputs": [],
   "source": [
    "board=[\"WK\",\"WN\",\"WR\",\"  \",\"  \",\"BR\",\"BN\",\"BK\"]\n",
    "def getPlayerMoves():\n",
    "    lst=input(\"Enter the piece to move and index where to move-\").split()\n",
    "    piece=lst[0]\n",
    "    newposition=int(lst[1])\n",
    "    return (piece,newposition)"
   ]
  },
  {
   "cell_type": "code",
   "execution_count": 157,
   "id": "278b9494",
   "metadata": {},
   "outputs": [],
   "source": [
    "def AIBot_BestMove(board,depth):#Minimizing Player->turn=1\n",
    "    best_move=None\n",
    "    best_score=float(\"inf\")\n",
    "    AIMoves=player_moves(board,1)\n",
    "    for move in AIMoves:\n",
    "        #Creating a copy of the board to simulate the move\n",
    "        board_copy=board.copy()\n",
    "        implement_moves(board_copy,move)\n",
    "        \n",
    "        #Using Minimax Algorithm to find the best score of the move\n",
    "        score=minimax(board_copy,depth-1,0)\n",
    "        \n",
    "        #Updating the best move and best score based on the current move\n",
    "        if(score<best_score):\n",
    "            best_score=score\n",
    "            best_move=move\n",
    "    return best_move"
   ]
  },
  {
   "cell_type": "code",
   "execution_count": 158,
   "id": "cbab1352",
   "metadata": {},
   "outputs": [],
   "source": [
    "def mainLoop(board,turn=0):\n",
    "    turn=0\n",
    "    print(\"Game Starts-\")\n",
    "    print(board)\n",
    "    print()\n",
    "    while(not GameOver(board,turn)):\n",
    "        if(turn==0):\n",
    "            print(\"Your Turn-\")\n",
    "            whitepiece,whitepos=getPlayerMoves()\n",
    "            implement_moves(board,(whitepiece,whitepos))\n",
    "            print(board)\n",
    "            print()\n",
    "            turn=1\n",
    "        else:\n",
    "            print(\"AI Turn-\")\n",
    "            depth=3\n",
    "            best_move=AIBot_BestMove(board,depth)\n",
    "            implement_moves(board,best_move)\n",
    "            print(board)\n",
    "            print()\n",
    "            turn=0\n",
    "    print(\"Game ends\")"
   ]
  },
  {
   "cell_type": "code",
   "execution_count": 159,
   "id": "49fb0ebe",
   "metadata": {},
   "outputs": [
    {
     "name": "stdout",
     "output_type": "stream",
     "text": [
      "Game Starts-\n",
      "['WK', 'WN', '  ', '  ', 'WR', 'BR', 'BN', 'BK']\n",
      "\n",
      "Your Turn-\n",
      "Enter the piece to move and index where to move-WR 4\n",
      "['WK', 'WN', '  ', '  ', 'WR', 'BR', 'BN', 'BK']\n",
      "\n",
      "AI Turn-\n",
      "['WK', 'WN', '  ', '  ', 'BR', '  ', 'BN', 'BK']\n",
      "\n",
      "Your Turn-\n",
      "Enter the piece to move and index where to move-WN 3\n",
      "['WK', '  ', '  ', 'WN', 'BR', '  ', 'BN', 'BK']\n",
      "\n",
      "AI Turn-\n",
      "['WK', '  ', '  ', 'BR', '  ', '  ', 'BN', 'BK']\n",
      "\n",
      "Game ends\n"
     ]
    }
   ],
   "source": [
    "mainLoop(board,0)"
   ]
  },
  {
   "cell_type": "code",
   "execution_count": 160,
   "id": "82e9da93",
   "metadata": {},
   "outputs": [
    {
     "name": "stdout",
     "output_type": "stream",
     "text": [
      "Game Starts-\n",
      "['WK', 'WN', 'WR', '  ', '  ', 'BR', 'BN', 'BK']\n",
      "\n",
      "Your Turn-\n",
      "Enter the piece to move and index where to move-WN 3\n",
      "['WK', '  ', 'WR', 'WN', '  ', 'BR', 'BN', 'BK']\n",
      "\n",
      "AI Turn-\n",
      "['WK', '  ', 'WR', 'WN', 'BR', '  ', 'BN', 'BK']\n",
      "\n",
      "Your Turn-\n",
      "Enter the piece to move and index where to move-WN 5\n",
      "['WK', '  ', 'WR', '  ', 'BR', 'WN', 'BN', 'BK']\n",
      "\n",
      "AI Turn-\n",
      "['WK', '  ', 'WR', '  ', '  ', 'BR', 'BN', 'BK']\n",
      "\n",
      "Your Turn-\n",
      "Enter the piece to move and index where to move-WR 5\n",
      "['WK', '  ', '  ', '  ', '  ', 'WR', 'BN', 'BK']\n",
      "\n",
      "Game ends\n"
     ]
    }
   ],
   "source": [
    "board=[\"WK\",\"WN\",\"WR\",\"  \",\"  \",\"BR\",\"BN\",\"BK\"]\n",
    "mainLoop(board,0)"
   ]
  },
  {
   "cell_type": "code",
   "execution_count": 161,
   "id": "a9ec93fd",
   "metadata": {},
   "outputs": [
    {
     "name": "stdout",
     "output_type": "stream",
     "text": [
      "Game Starts-\n",
      "['WK', 'WN', 'WR', '  ', '  ', 'BR', 'BN', 'BK']\n",
      "\n",
      "Your Turn-\n",
      "Enter the piece to move and index where to move-WR 3\n",
      "['WK', 'WN', '  ', 'WR', '  ', 'BR', 'BN', 'BK']\n",
      "\n",
      "AI Turn-\n",
      "['WK', 'WN', '  ', 'WR', 'BN', 'BR', '  ', 'BK']\n",
      "\n",
      "Your Turn-\n",
      "Enter the piece to move and index where to move-WN 2\n",
      "['WK', '  ', 'WN', 'WR', 'BN', 'BR', '  ', 'BK']\n",
      "\n",
      "AI Turn-\n",
      "['WK', '  ', 'BN', 'WR', '  ', 'BR', '  ', 'BK']\n",
      "\n",
      "Your Turn-\n",
      "Enter the piece to move and index where to move-WK 1\n",
      "['  ', 'WK', 'BN', 'WR', '  ', 'BR', '  ', 'BK']\n",
      "\n",
      "AI Turn-\n",
      "['  ', 'WK', 'BN', 'BR', '  ', '  ', '  ', 'BK']\n",
      "\n",
      "Game ends\n"
     ]
    }
   ],
   "source": [
    "board=[\"WK\",\"WN\",\"WR\",\"  \",\"  \",\"BR\",\"BN\",\"BK\"]\n",
    "mainLoop(board,0)"
   ]
  },
  {
   "cell_type": "code",
   "execution_count": null,
   "id": "00686c4c",
   "metadata": {},
   "outputs": [],
   "source": []
  }
 ],
 "metadata": {
  "kernelspec": {
   "display_name": "Python 3 (ipykernel)",
   "language": "python",
   "name": "python3"
  },
  "language_info": {
   "codemirror_mode": {
    "name": "ipython",
    "version": 3
   },
   "file_extension": ".py",
   "mimetype": "text/x-python",
   "name": "python",
   "nbconvert_exporter": "python",
   "pygments_lexer": "ipython3",
   "version": "3.10.6"
  }
 },
 "nbformat": 4,
 "nbformat_minor": 5
}
